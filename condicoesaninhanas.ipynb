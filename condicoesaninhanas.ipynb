{
  "nbformat": 4,
  "nbformat_minor": 0,
  "metadata": {
    "colab": {
      "provenance": [],
      "authorship_tag": "ABX9TyOIcSS0aJcWQ7/ocrnbCli1",
      "include_colab_link": true
    },
    "kernelspec": {
      "name": "python3",
      "display_name": "Python 3"
    },
    "language_info": {
      "name": "python"
    }
  },
  "cells": [
    {
      "cell_type": "markdown",
      "metadata": {
        "id": "view-in-github",
        "colab_type": "text"
      },
      "source": [
        "<a href=\"https://colab.research.google.com/github/GiseleSacramento/DESAFIOS/blob/main/condicoesaninhanas.ipynb\" target=\"_parent\"><img src=\"https://colab.research.google.com/assets/colab-badge.svg\" alt=\"Open In Colab\"/></a>"
      ]
    },
    {
      "cell_type": "markdown",
      "source": [
        "**Condições aninhadas** DESAFIO 2"
      ],
      "metadata": {
        "id": "bsvFNOXtPkY2"
      }
    },
    {
      "cell_type": "code",
      "execution_count": null,
      "metadata": {
        "colab": {
          "base_uri": "https://localhost:8080/"
        },
        "id": "tNifsn4ROw4D",
        "outputId": "51e71b5b-8c59-4408-d7b8-bc9d7b71629e"
      },
      "outputs": [
        {
          "output_type": "stream",
          "name": "stdout",
          "text": [
            "Digite o ano do seu nacimento: 2010\n",
            "Você ainda vai se alistar. \n"
          ]
        }
      ],
      "source": [
        "ano=int(input(\"Digite o ano do seu nacimento: \"))\n",
        "idade=(2024 - ano)\n",
        "if idade <18:\n",
        " print(\"Você ainda vai se alistar. \")\n",
        "elif idade >18:\n",
        " print(\"Você já passou da hora  de se alistar. \")\n",
        "elif idade==18:\n",
        "  print(\"Você já está na hora de se alistar.\")\n"
      ]
    },
    {
      "cell_type": "markdown",
      "source": [
        "DESAFIO 1"
      ],
      "metadata": {
        "id": "ha4eFziVWrMI"
      }
    },
    {
      "cell_type": "code",
      "source": [
        "valor_casa=float(input('Qual é o valor da casa: '))\n",
        "salario=float(input('Digite o valor do seu salário: '))\n",
        "ano_pagamento=int(input('Quantos anos pretente pagar? '))\n",
        "\n",
        "meses = ano_pagamento * 12\n",
        "prestacao_mensal= valor_casa / meses\n",
        "\n",
        "if prestacao_mensal <= salario*0.3:\n",
        "  print('Seu emprestimo foi aprovado!')\n",
        "  print(f'A prestação mensal será R$: {prestacao_mensal}')\n",
        "else:\n",
        "  print('Seu emprestimo foi reprovado.')\n",
        "  print(f'A prestação mensal será R$:{prestacao_mensal}')\n",
        "\n",
        "\n"
      ],
      "metadata": {
        "id": "kNgEyAbrWoax"
      },
      "execution_count": null,
      "outputs": []
    },
    {
      "cell_type": "markdown",
      "source": [
        "DESAFIO 3"
      ],
      "metadata": {
        "id": "06UsfC4AgvfC"
      }
    },
    {
      "cell_type": "code",
      "source": [
        "peso=float(input('Digite seu peso: '))\n",
        "altura=float(input('Digite sua altura:'))\n",
        "imc= peso/(altura**2)\n",
        "\n",
        "if peso<18.5:\n",
        "  print('Você está abaixo do peso. ')\n",
        "elif peso>18.5 and peso<25:\n",
        "  print('Você está no peso ideal! ')\n",
        "elif peso>25 and peso<=30:\n",
        "  print('Você está acima do peso indicado.')\n",
        "elif peso>30 and peso<=40:\n",
        "  print('Você está atingiu a obesidade.')\n",
        "else:\n",
        "  print('Você já atingiu a obesidade mórbida. ')"
      ],
      "metadata": {
        "colab": {
          "base_uri": "https://localhost:8080/"
        },
        "id": "dhBuuADigyC3",
        "outputId": "fbe3817a-5069-4d5e-96b8-5d8765e3b8fa"
      },
      "execution_count": 12,
      "outputs": [
        {
          "output_type": "stream",
          "name": "stdout",
          "text": [
            "Digite seu peso: 160\n",
            "Digite sua altura:1.60\n",
            "Você já atingiu a obesidade mórbida. \n"
          ]
        }
      ]
    },
    {
      "cell_type": "markdown",
      "source": [
        "DESAFIO 4"
      ],
      "metadata": {
        "id": "s0P79A2iaJZI"
      }
    },
    {
      "cell_type": "code",
      "source": [
        "produto=float(input('Digite o valor do seu produto: '))\n",
        "pagamento=int(input('Qual é a forma de pagamento? [1] Dinheiro/Pix | [2] A vista no cartão | [3] Em 2x no cartão | [4] Em 3x ou mais:'))\n",
        "\n",
        "if pagamento== 1:\n",
        "  valor_final = produto * 0.90\n",
        "elif pagamento == 2:\n",
        "   valor_final = produto * 0.95\n",
        "elif pagamento== 3:\n",
        " valor_final = produto\n",
        "else:\n",
        " valor_final = produto * 1.20\n",
        "\n",
        "print(valor_final)\n",
        "\n"
      ],
      "metadata": {
        "colab": {
          "base_uri": "https://localhost:8080/"
        },
        "id": "7FgE7ub4adO3",
        "outputId": "0e67487c-bfeb-4e73-ad54-ed4f8c63f104"
      },
      "execution_count": 37,
      "outputs": [
        {
          "output_type": "stream",
          "name": "stdout",
          "text": [
            "Digite o valor do seu produto: 100\n",
            "Qual é a forma de pagamento? [1] Dinheiro/Pix | [2] A vista no cartão | [3] Em 2x no cartão | [4] Em 3x ou mais:1\n",
            "90.0\n"
          ]
        }
      ]
    },
    {
      "cell_type": "markdown",
      "source": [
        "DESAFIO 5"
      ],
      "metadata": {
        "id": "74sXS6fSaJYA"
      }
    },
    {
      "cell_type": "code",
      "source": [],
      "metadata": {
        "id": "vqqSEOyAgoll"
      },
      "execution_count": null,
      "outputs": []
    }
  ]
}
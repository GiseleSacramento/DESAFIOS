{
  "nbformat": 4,
  "nbformat_minor": 0,
  "metadata": {
    "colab": {
      "provenance": [],
      "authorship_tag": "ABX9TyPxlVHp+Ab8S+YlUDOiH7Cn",
      "include_colab_link": true
    },
    "kernelspec": {
      "name": "python3",
      "display_name": "Python 3"
    },
    "language_info": {
      "name": "python"
    }
  },
  "cells": [
    {
      "cell_type": "markdown",
      "metadata": {
        "id": "view-in-github",
        "colab_type": "text"
      },
      "source": [
        "<a href=\"https://colab.research.google.com/github/GiseleSacramento/DESAFIOS/blob/main/DESAFIO11.ipynb\" target=\"_parent\"><img src=\"https://colab.research.google.com/assets/colab-badge.svg\" alt=\"Open In Colab\"/></a>"
      ]
    },
    {
      "cell_type": "code",
      "execution_count": null,
      "metadata": {
        "id": "TMFFGWh0fhzx"
      },
      "outputs": [],
      "source": [
        "#Desafio11: Crie um programa que leia o nome completo de uma pessoa e mostre:\n",
        "nome=input('Digite o seu nome completo aqui:')"
      ]
    },
    {
      "cell_type": "code",
      "source": [
        "nome.lower()#minusculo"
      ],
      "metadata": {
        "id": "3lYGasqOf8pu"
      },
      "execution_count": null,
      "outputs": []
    },
    {
      "cell_type": "code",
      "source": [
        "nome.upper()#maiusculo"
      ],
      "metadata": {
        "id": "arV8OnEmgLyO"
      },
      "execution_count": null,
      "outputs": []
    },
    {
      "cell_type": "code",
      "source": [
        "list= nome.split() # Retorna uma divisão dentro da string, considerando os espaços"
      ],
      "metadata": {
        "id": "0bGDbpWFgV2v"
      },
      "execution_count": 7,
      "outputs": []
    },
    {
      "cell_type": "code",
      "source": [
        "list"
      ],
      "metadata": {
        "id": "Z6aRerhH2kxs"
      },
      "execution_count": null,
      "outputs": []
    },
    {
      "cell_type": "code",
      "source": [
        "resultado=''.join(list) # Junta todos os elementos da frase, usando o separador"
      ],
      "metadata": {
        "id": "ff81YOfehIaX"
      },
      "execution_count": 9,
      "outputs": []
    },
    {
      "cell_type": "code",
      "source": [
        "resultado"
      ],
      "metadata": {
        "id": "mjU_9aM-3VqU"
      },
      "execution_count": null,
      "outputs": []
    },
    {
      "cell_type": "code",
      "source": [
        "total_resultado=len(resultado)"
      ],
      "metadata": {
        "id": "fk-oTlcL1ZYu"
      },
      "execution_count": 23,
      "outputs": []
    },
    {
      "cell_type": "code",
      "source": [
        "print(f\"Total de números (sem considerar espaços): {total_resultado}\")"
      ],
      "metadata": {
        "id": "4w5Y5xuKE01s"
      },
      "execution_count": null,
      "outputs": []
    },
    {
      "cell_type": "markdown",
      "source": [],
      "metadata": {
        "id": "Rjw6C0LiH2OG"
      }
    },
    {
      "cell_type": "code",
      "source": [
        "primeiro_nome = nome.split()[0] # Obtém o primeiro nome"
      ],
      "metadata": {
        "id": "hGfZxwS1Gr-7"
      },
      "execution_count": 25,
      "outputs": []
    },
    {
      "cell_type": "code",
      "source": [
        "letras_primeiro_nome = len(primeiro_nome)  # Conta o número de letras no primeiro nome"
      ],
      "metadata": {
        "id": "-lFmiakDG0x0"
      },
      "execution_count": 30,
      "outputs": []
    },
    {
      "cell_type": "code",
      "source": [
        "print(f\"Número de letras no primeiro nome: {letras_primeiro_nome}\")"
      ],
      "metadata": {
        "id": "er0LllXIHAHl"
      },
      "execution_count": null,
      "outputs": []
    }
  ]
}
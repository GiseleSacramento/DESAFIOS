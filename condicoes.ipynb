{
  "nbformat": 4,
  "nbformat_minor": 0,
  "metadata": {
    "colab": {
      "provenance": [],
      "authorship_tag": "ABX9TyPyCloVjFBInAPmedBcmKjV",
      "include_colab_link": true
    },
    "kernelspec": {
      "name": "python3",
      "display_name": "Python 3"
    },
    "language_info": {
      "name": "python"
    }
  },
  "cells": [
    {
      "cell_type": "markdown",
      "metadata": {
        "id": "view-in-github",
        "colab_type": "text"
      },
      "source": [
        "<a href=\"https://colab.research.google.com/github/GiseleSacramento/DESAFIOS/blob/main/condicoes.ipynb\" target=\"_parent\"><img src=\"https://colab.research.google.com/assets/colab-badge.svg\" alt=\"Open In Colab\"/></a>"
      ]
    },
    {
      "cell_type": "markdown",
      "source": [
        "condicoes desafio 1"
      ],
      "metadata": {
        "id": "2dDpTjwNdCJx"
      }
    },
    {
      "cell_type": "code",
      "execution_count": 49,
      "metadata": {
        "colab": {
          "base_uri": "https://localhost:8080/"
        },
        "id": "52LHbbIZTUSn",
        "outputId": "46f7a395-5148-4ac6-d3e2-7da9c6299f7f"
      },
      "outputs": [
        {
          "name": "stdout",
          "output_type": "stream",
          "text": [
            "Digite a velocidade que estar o veiculo : 300\n"
          ]
        }
      ],
      "source": [
        "velocidade=int(input(f'Digite a velocidade que estar o veiculo : '))"
      ]
    },
    {
      "cell_type": "code",
      "source": [
        "velocidade"
      ],
      "metadata": {
        "colab": {
          "base_uri": "https://localhost:8080/"
        },
        "id": "Feoo8fAoXIQp",
        "outputId": "364a70ea-ac07-4b59-9cf5-be8731297eb2"
      },
      "execution_count": 50,
      "outputs": [
        {
          "output_type": "execute_result",
          "data": {
            "text/plain": [
              "300"
            ]
          },
          "metadata": {},
          "execution_count": 50
        }
      ]
    },
    {
      "cell_type": "code",
      "source": [
        "if velocidade> 80:\n",
        "  print('Parabéns você está acima da velocidade permitida. ')\n",
        "  diferenca=(velocidade-80)\n",
        "  multa= 7*diferenca\n",
        "  print(f'Parabéns pela sua multa de: {multa}')\n",
        "else:\n",
        "  print(f'Parabéns você está na velocidade permitida! ')\n"
      ],
      "metadata": {
        "colab": {
          "base_uri": "https://localhost:8080/"
        },
        "id": "f1CUnUdcVeOE",
        "outputId": "0b3240f7-cfdb-4f75-b324-df00ea8e3f76"
      },
      "execution_count": 51,
      "outputs": [
        {
          "output_type": "stream",
          "name": "stdout",
          "text": [
            "Parabéns você está acima da velocidade permitida. \n",
            "Parabéns pela sua multa de: 1540\n"
          ]
        }
      ]
    },
    {
      "cell_type": "markdown",
      "source": [
        "desafio2"
      ],
      "metadata": {
        "id": "rDNxUKmWdL5m"
      }
    },
    {
      "cell_type": "code",
      "source": [
        "distancia=int(input(f'Qual e a distancia de dua viagem em km: '))\n",
        "if distancia <=200:\n",
        "  print(f'Você nao vai ser cobrado pela viagem ')\n",
        "else:\n",
        "  passagem=(distancia-200)\n",
        "  valor= 0.45*distancia\n",
        "  print(f'O valor da sua passagem é: {valor}')"
      ],
      "metadata": {
        "colab": {
          "base_uri": "https://localhost:8080/"
        },
        "id": "Xmxvlw0-eF-E",
        "outputId": "328a111d-baec-4c21-e802-96a90e1aa8e7"
      },
      "execution_count": 68,
      "outputs": [
        {
          "output_type": "stream",
          "name": "stdout",
          "text": [
            "Qual e a distancia de dua viagem em km: 1000\n",
            "O valor da sua passagem é: 450.0\n"
          ]
        }
      ]
    }
  ]
}
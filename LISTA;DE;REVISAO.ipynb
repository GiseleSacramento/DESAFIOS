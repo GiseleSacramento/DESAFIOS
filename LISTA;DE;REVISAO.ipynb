{
  "nbformat": 4,
  "nbformat_minor": 0,
  "metadata": {
    "colab": {
      "provenance": [],
      "authorship_tag": "ABX9TyO7CkMM4mlw44sOWwi8M/8q",
      "include_colab_link": true
    },
    "kernelspec": {
      "name": "python3",
      "display_name": "Python 3"
    },
    "language_info": {
      "name": "python"
    }
  },
  "cells": [
    {
      "cell_type": "markdown",
      "metadata": {
        "id": "view-in-github",
        "colab_type": "text"
      },
      "source": [
        "<a href=\"https://colab.research.google.com/github/GiseleSacramento/DESAFIOS/blob/main/LISTA%3BDE%3BREVISAO.ipynb\" target=\"_parent\"><img src=\"https://colab.research.google.com/assets/colab-badge.svg\" alt=\"Open In Colab\"/></a>"
      ]
    },
    {
      "cell_type": "markdown",
      "source": [
        "LISTA2 DE REVISAO(LOOP WHILW)"
      ],
      "metadata": {
        "id": "lchC5hRgmG4h"
      }
    },
    {
      "cell_type": "code",
      "source": [
        "#1\n",
        "senha=''\n",
        "while senha!= 'python123'\n",
        "  senha= str (input('Por favor digite, a senha correta.'))"
      ],
      "metadata": {
        "id": "UsRzZq_DmL1I"
      },
      "execution_count": null,
      "outputs": []
    },
    {
      "cell_type": "code",
      "source": [
        "#2\n",
        "sexo=''\n",
        "while sexo not in ['f', 'm']:\n",
        "  sexo= input('Informe o sexo válido.')"
      ],
      "metadata": {
        "id": "wjR6Mn2NnYdF"
      },
      "execution_count": null,
      "outputs": []
    },
    {
      "cell_type": "code",
      "source": [
        "#3\n",
        "num=0\n",
        "cont=0\n",
        "while num >=0:\n",
        "  num = int(input('Digite um número. '))\n",
        "  if num> 0:\n",
        "    cont +=1\n",
        "print(cont)"
      ],
      "metadata": {
        "id": "Nb7MRQvLnwbP"
      },
      "execution_count": null,
      "outputs": []
    },
    {
      "cell_type": "code",
      "source": [
        "#4\n",
        "num=24\n",
        "soma=0\n",
        "while num != 0:\n",
        "  num= int(input('Digute um número.'))\n",
        "  if num %2==0:\n",
        "     soma+=num\n",
        "print(f'A soma dos números pares {soma}')\n"
      ],
      "metadata": {
        "id": "L4vehpWQvsZI"
      },
      "execution_count": null,
      "outputs": []
    },
    {
      "cell_type": "code",
      "source": [
        "#5\n",
        "soma=0\n",
        "cont=0\n",
        "while true:\n",
        "  nota = int(input('Digite sua nota:'))\n",
        "  if (nota>=0) and (nota in range(0,11)):\n",
        "    soma+= nota\n",
        "    cont+=1\n",
        "  elif (nota not in range(0,11)) and (nota >0):\n",
        "   print('Nota inválida. Digite novamente:')\n",
        "  elif nota<0:\n",
        "   break\n",
        "  print(f'A média das notas inseridas foi {soma/cont}.')"
      ],
      "metadata": {
        "id": "GSuC5wlGxkXu"
      },
      "execution_count": null,
      "outputs": []
    },
    {
      "cell_type": "code",
      "source": [
        "#6\n",
        "nome= senha=None\n",
        "while True:\n",
        "  nome= str(input('Digite seu nome de usuário: '))\n",
        "  senha= str(input('Digite sua senha: '))\n",
        "  if senha == nome:\n",
        "   print('A senha é iqual ao seu nome. Digite outra senha: ')\n",
        "  else:\n",
        "    break\n"
      ],
      "metadata": {
        "id": "WZzdvRt5l_Hk"
      },
      "execution_count": null,
      "outputs": []
    },
    {
      "cell_type": "code",
      "source": [
        "#7\n",
        "nome= sexo= estado= ''\n",
        "idade= salario= -1\n",
        "\n",
        "while True:\n",
        " if len(nome)<=3:\n",
        "  nome= str(input('Digite seu nome: '))\n",
        "\n",
        " elif idade not in range(0,151):\n",
        "  idade=int(input('Digite sua idade: '))\n",
        "\n",
        " elif salario<=0:\n",
        "  salario= int(input('Digite seu salário: '))\n",
        "\n",
        " elif sexo not in ['F','M']:\n",
        "  sexo= str(input('Digite seu sexo F ou M; '))\n",
        "\n",
        " elif estado not in ['S' , 'C' , 'V' ,'D' ]:\n",
        "  estado= str(input('Digite seu estado cívil (S,C,V,D): '))\n"
      ],
      "metadata": {
        "id": "GrZT8CpUtcHI"
      },
      "execution_count": null,
      "outputs": []
    },
    {
      "cell_type": "markdown",
      "source": [
        "LISTA1 DE REVISAO"
      ],
      "metadata": {
        "id": "grwg2H7djZS-"
      }
    },
    {
      "cell_type": "code",
      "execution_count": null,
      "metadata": {
        "id": "mgv6BqaljV6k"
      },
      "outputs": [],
      "source": [
        "#Divisão interia de Dois Número 1\n",
        "num1=15\n",
        "num2=4\n",
        "print(f'A divisão inteira dos numero 15 e 4 é:{num1//num2}')"
      ]
    },
    {
      "cell_type": "code",
      "source": [
        "#Resto da Divisão de Dois números 2\n",
        "num1=20\n",
        "num2=3\n",
        "print(f'O resta da disão dos números 20 e 3 é: {num1%num2}')"
      ],
      "metadata": {
        "id": "zyj7GyQAk9yj"
      },
      "execution_count": null,
      "outputs": []
    },
    {
      "cell_type": "code",
      "source": [
        "#Exponeciação simples 3\n",
        "num1=3**4\n",
        "print(f'Aexponeciação do némero 3 elevado á 4 é: {num1}')"
      ],
      "metadata": {
        "id": "aTkAGIwYmDON"
      },
      "execution_count": null,
      "outputs": []
    },
    {
      "cell_type": "code",
      "source": [
        "#Divisão interia e resto 4\n",
        "num1=19//5\n",
        "num2=19%5\n",
        "print(f'Seu número inteiro de 19 por 5 é {num1} e o resto é {num2}')"
      ],
      "metadata": {
        "id": "iw_o1LeLnB40"
      },
      "execution_count": null,
      "outputs": []
    },
    {
      "cell_type": "code",
      "source": [
        "#Quadrado de um número 5\n",
        "num1=5**2\n",
        "print(f'O quadrado do número 5 é : {num1}')"
      ],
      "metadata": {
        "id": "m8fGPUsLoRcE"
      },
      "execution_count": null,
      "outputs": []
    },
    {
      "cell_type": "code",
      "source": [
        "#Cubo de um número 6\n",
        "num1=2**3\n",
        "print(f'O cubo de 2 é : {num1}')"
      ],
      "metadata": {
        "id": "iW_Yypawouff"
      },
      "execution_count": null,
      "outputs": []
    },
    {
      "cell_type": "code",
      "source": [
        "#Verificar de e par ou imapar 7\n",
        "num1=10\n",
        "if num1 % 2 ==0:\n",
        "  par_ou_impar='Par'\n",
        "else:\n",
        "  par_ou_impar='Impar'\n",
        "print(f'O número 10 é par ou impar: {par_ou_impar}')"
      ],
      "metadata": {
        "id": "rEPaoHLppHvt"
      },
      "execution_count": null,
      "outputs": []
    },
    {
      "cell_type": "code",
      "source": [
        "#Calcule a idade em decadas 8\n",
        "idade=45//10\n",
        "print(f'A deacada da idade 45 é: {idade}')"
      ],
      "metadata": {
        "id": "x2GcHqpJslL9"
      },
      "execution_count": null,
      "outputs": []
    },
    {
      "cell_type": "code",
      "source": [
        "#Potencias de dois números 9\n",
        "num1= int(input('Digite seu primeiro número: '))\n",
        "num2= int(input('Digite o segundo número: '))\n",
        "print(f'A potenciação dos seus números é: {num1**num2}')"
      ],
      "metadata": {
        "id": "7yb28JVHtufL"
      },
      "execution_count": null,
      "outputs": []
    },
    {
      "cell_type": "code",
      "source": [
        "#Idade (maior de idade ou não) 10\n",
        "idade= int(input('Digite sua idade: '))\n",
        "if idade >=18:\n",
        "  print('Parabéns você e maior de idade!')\n",
        "else:\n",
        "  idade<18\n",
        "  print('Infelizmente você é de menor de idade.')\n"
      ],
      "metadata": {
        "id": "hZQsrlqqvSEH"
      },
      "execution_count": null,
      "outputs": []
    },
    {
      "cell_type": "code",
      "source": [
        "#Verificar se um Número Está Dentro de um Intervalo 11\n",
        "num1= 15\n",
        "if num1 >=10 and num1<20:\n",
        "  print('Está no intervalo.')\n",
        "else:\n",
        "  print('Não está no intervalo.')"
      ],
      "metadata": {
        "id": "XdsiV9PsxX2x"
      },
      "execution_count": null,
      "outputs": []
    },
    {
      "cell_type": "code",
      "source": [
        "#Verificar se uma Pessoa é Adulto e Tem Carteira de Motorista 12\n",
        "idade= int(input('Digite sua idade : '))\n",
        "if idade>=18:\n",
        "   print('Você já é maior de idade.')\n",
        "else:\n",
        "  print('Você ainda é de menor de idade.')\n",
        "\n",
        "carteira= input('Você tem carteira de motorista? sim/não: ')\n",
        "if carteira == 'sim':\n",
        " print('Tem carteira de motorista.')\n",
        "else:\n",
        "  print('Você não tem carteira de motorista')\n"
      ],
      "metadata": {
        "id": "5zq8WqvHzgh0"
      },
      "execution_count": null,
      "outputs": []
    },
    {
      "cell_type": "code",
      "source": [
        "#Verificar se um Número é Par ou Positivo 13\n",
        "numero = int(input(\"Digite um número inteiro: \"))\n",
        "\n",
        "if numero % 2 == 0:\n",
        "    par_ou_impar = \"par\"\n",
        "else:\n",
        "    par_ou_impar = \"ímpar\"\n",
        "\n",
        "if numero >= 0:\n",
        "    positivo_ou_negativo = \"positivo\"\n",
        "else:\n",
        "    positivo_ou_negativo = \"negativo\"\n",
        "\n",
        "print(f\"O número é {par_ou_impar} e {positivo_ou_negativo}.\")\n"
      ],
      "metadata": {
        "id": "4hHT0urx3tpw"
      },
      "execution_count": null,
      "outputs": []
    },
    {
      "cell_type": "code",
      "source": [
        "#Verificar se um Número é Par e Está em um Intervalo 14\n",
        "num=12\n",
        "if num % 2 == 0:\n",
        "  if num>=10 and num<=20:\n",
        "    print(\"O número é par e está entre 10 e 20.\")\n",
        "  else:\n",
        "    print(\"O número é par mais não está no intervalo.\")\n",
        "else:\n",
        "  if num >=10 and num<=20:\n",
        "    print(\"O número não é par mais está no intervalo.\")\n",
        "  else:\n",
        "    print('O número não é par e não está no intervalo.')"
      ],
      "metadata": {
        "id": "Qz_ApQpy4y_K"
      },
      "execution_count": null,
      "outputs": []
    },
    {
      "cell_type": "code",
      "source": [
        "#Verificar se uma Pessoa Não é Criança Nem Idosa 15\n",
        "idade= int(input('Digite sua idade.'))\n",
        "if idade<=12 :\n",
        " print('Você ainda é uma criança.')\n",
        "elif idade>=60:\n",
        "  print('Você ainda é idoso.')\n",
        "else:\n",
        "  print('Você é um adulto.')\n"
      ],
      "metadata": {
        "id": "tTrfLd_xibei"
      },
      "execution_count": null,
      "outputs": []
    }
  ]
}
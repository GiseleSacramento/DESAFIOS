{
  "nbformat": 4,
  "nbformat_minor": 0,
  "metadata": {
    "colab": {
      "provenance": [],
      "authorship_tag": "ABX9TyNGcZcRgLulGh0uC82Z4+8o",
      "include_colab_link": true
    },
    "kernelspec": {
      "name": "python3",
      "display_name": "Python 3"
    },
    "language_info": {
      "name": "python"
    }
  },
  "cells": [
    {
      "cell_type": "markdown",
      "metadata": {
        "id": "view-in-github",
        "colab_type": "text"
      },
      "source": [
        "<a href=\"https://colab.research.google.com/github/GiseleSacramento/DESAFIOS/blob/main/Desafio12.ipynb\" target=\"_parent\"><img src=\"https://colab.research.google.com/assets/colab-badge.svg\" alt=\"Open In Colab\"/></a>"
      ]
    },
    {
      "cell_type": "code",
      "execution_count": 2,
      "metadata": {
        "colab": {
          "base_uri": "https://localhost:8080/"
        },
        "id": "1YbgE6feQ-Ii",
        "outputId": "b9db9a3e-7de3-4917-9943-223f3981e561"
      },
      "outputs": [
        {
          "name": "stdout",
          "output_type": "stream",
          "text": [
            "Digite um número de 0 a 99994569\n"
          ]
        }
      ],
      "source": [
        "#lê um número de 1000 a 9999\n",
        "numero= input(\"Digite um número de 0 a 9999\")"
      ]
    },
    {
      "cell_type": "code",
      "source": [
        "print(f\"A unidade do seu número é : {numero[3]}\")\n",
        "print(f\"A dezena do seu número é : {numero[2]}\")\n",
        "print(f\"A centena do seu número é : {numero[1]}\")\n",
        "print(f\"O resultado de milhar é : {numero[0]}\")"
      ],
      "metadata": {
        "colab": {
          "base_uri": "https://localhost:8080/"
        },
        "id": "GKKgta_rSick",
        "outputId": "9e9aa1f8-b566-4dd0-a3fa-e99943b25a2e"
      },
      "execution_count": 12,
      "outputs": [
        {
          "output_type": "stream",
          "name": "stdout",
          "text": [
            "A unidade do seu número é : 9\n",
            "A dezena do seu número é : 6\n",
            "A centena do seu número é : 5\n",
            "O resultado de milhar é : 4\n"
          ]
        }
      ]
    }
  ]
}
{
  "nbformat": 4,
  "nbformat_minor": 0,
  "metadata": {
    "colab": {
      "provenance": [],
      "authorship_tag": "ABX9TyNLy42ESh/hoYetzanx9+9V",
      "include_colab_link": true
    },
    "kernelspec": {
      "name": "python3",
      "display_name": "Python 3"
    },
    "language_info": {
      "name": "python"
    }
  },
  "cells": [
    {
      "cell_type": "markdown",
      "metadata": {
        "id": "view-in-github",
        "colab_type": "text"
      },
      "source": [
        "<a href=\"https://colab.research.google.com/github/GiseleSacramento/DESAFIOS/blob/main/DESAFIO1/10.ipynb\" target=\"_parent\"><img src=\"https://colab.research.google.com/assets/colab-badge.svg\" alt=\"Open In Colab\"/></a>"
      ]
    },
    {
      "cell_type": "code",
      "execution_count": null,
      "metadata": {
        "id": "z4x3i-c4Jhzy"
      },
      "outputs": [],
      "source": [
        "#Desafio1:Boas-vindas\n",
        "nome = input(\"Digite seu nome:\")\n",
        "print(f\"Seja bem-vindo(a), {nome}!\")"
      ]
    },
    {
      "cell_type": "code",
      "source": [
        "#Desafio2:Data de Nascimento\n",
        "dia = input(\"Digite o dia do seu nascimento:\")\n",
        "mes = input(\" Digite o mês do seu nasvimento:\")\n",
        "ano = input (\"Digite o ano do seu nascimento:\")\n",
        "print(f\"Você nasceu em {dia}/{mes}/{ano}.\")"
      ],
      "metadata": {
        "id": "LYe0Eh14JlM0"
      },
      "execution_count": null,
      "outputs": []
    },
    {
      "cell_type": "code",
      "source": [
        "#Desafio3:Soma de dois números\n",
        "numero1 =int(input(\"Digite o primeiro número inteiro:\"))\n",
        "numero2 = int(input(\"Digite o segundo número inteiro:\"))\n",
        "soma = numero1 + numero2\n",
        "print(f\"A soma de {numero1} e {numero2} é {soma}.\")"
      ],
      "metadata": {
        "id": "lfg-T8-BJwFX"
      },
      "execution_count": null,
      "outputs": []
    },
    {
      "cell_type": "code",
      "source": [
        "#Desafio4:Dobro, Triplo e Raiz Quadrada\n",
        "numero = float(input(\"Digite um núnero:\"))\n",
        "dobro = numero * 2\n",
        "triplo = numero * 3\n",
        "raiz_quadrada = numero **0.5\n",
        "print(f\"O dobro de {numero} é {dobro}.\")\n",
        "print(f\"Otriplo de {numero} é {triplo}.\")\n",
        "print(f\"A raiz quadrada de {numero} é {raiz_quadrada:.2f}.\")"
      ],
      "metadata": {
        "id": "1dPgYPu_KE87"
      },
      "execution_count": null,
      "outputs": []
    },
    {
      "cell_type": "code",
      "source": [
        "#Desafio5:Méia de duas notas\n",
        "nota1 = int(input(\"Digite a primeita nota:\"))\n",
        "nota2 = int(input(\"Digite a segunda nota:\"))\n",
        "media = (nota1 + nota2) / 2\n",
        "print(f\"A média das notas {nota1} e {nota2} é {media:.2f}.\")"
      ],
      "metadata": {
        "id": "D4flO0_JKHpK"
      },
      "execution_count": null,
      "outputs": []
    },
    {
      "cell_type": "code",
      "source": [
        "#Desafio6:Conversão de metros para centímetros\n",
        "metros = float(input(\"Digite um valor em metros:\"))\n",
        "centimetros = metros *100\n",
        "milimetros = metros *1000\n",
        "print(f\"{metros} metros é igual a {centimetros}.\")\n",
        "print(f\"{metros} metros é igual a {milimetros} milímetros.\")"
      ],
      "metadata": {
        "id": "crFHXAdeKJga"
      },
      "execution_count": null,
      "outputs": []
    },
    {
      "cell_type": "code",
      "source": [
        "#Desafio7:Conversão de reais para dólares\n",
        "reais = float(input(\"Digite quanto dinheiro você tem em reais:\"))\n",
        "cotacao_dolar = 0.18 # 1 USD = 5 BRL\n",
        "dolares = reais / cotacao_dolar\n",
        "print(f\"Com R$ {reais:.2f}, você pode comprar US${dolares:.2f}\")"
      ],
      "metadata": {
        "id": "-0q5N7RsKMhM"
      },
      "execution_count": null,
      "outputs": []
    },
    {
      "cell_type": "code",
      "source": [
        "#Desafio8:Tabuada em um número\n",
        "numero = int(input(\"Digite um número inteiro para ver sua tabuada:\"))\n",
        "print(f\"Tabuada do a{numero}:\")\n",
        "for i in range(1,11):\n",
        "   print(f\"{numero} x {i} = {numero * i}\")\n",
        ""
      ],
      "metadata": {
        "id": "pY7MgDT9KPDs"
      },
      "execution_count": null,
      "outputs": []
    },
    {
      "cell_type": "code",
      "source": [
        "#Desafio9: Preço com desconto\n",
        "preco = float(input(\"Digite o preço do produto:\"))\n",
        "desconto = preco *0.005\n",
        "novo_preco = preco - desconto\n",
        "print(f\"O presço com 5% de desconto é R${novo_preco:.2f}.\")"
      ],
      "metadata": {
        "id": "zcS9HbU6KRbF"
      },
      "execution_count": null,
      "outputs": []
    },
    {
      "cell_type": "code",
      "source": [
        "#Desafio10:Salário com aumento\n",
        "salario = float(input(\"Digite o salário atual:\"))\n",
        "aumento = salario *0.15\n",
        "novo_salario = salario + aumento\n",
        "print(f\"Com 15% de aumento, o novo salário é R$ {novo_salario:.2f}.\")"
      ],
      "metadata": {
        "id": "jZg1Xn1AKT-V"
      },
      "execution_count": null,
      "outputs": []
    }
  ]
}
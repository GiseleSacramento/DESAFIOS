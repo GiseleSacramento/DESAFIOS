{
  "nbformat": 4,
  "nbformat_minor": 0,
  "metadata": {
    "colab": {
      "provenance": [],
      "authorship_tag": "ABX9TyMZxBVZoHIjODZLdQ7rjwh3",
      "include_colab_link": true
    },
    "kernelspec": {
      "name": "python3",
      "display_name": "Python 3"
    },
    "language_info": {
      "name": "python"
    }
  },
  "cells": [
    {
      "cell_type": "markdown",
      "metadata": {
        "id": "view-in-github",
        "colab_type": "text"
      },
      "source": [
        "<a href=\"https://colab.research.google.com/github/GiseleSacramento/DESAFIOS/blob/main/aninhanasDESAFIOS.ipynb\" target=\"_parent\"><img src=\"https://colab.research.google.com/assets/colab-badge.svg\" alt=\"Open In Colab\"/></a>"
      ]
    },
    {
      "cell_type": "markdown",
      "source": [
        "**Condições aninhadas** DESAFIO 2"
      ],
      "metadata": {
        "id": "bsvFNOXtPkY2"
      }
    },
    {
      "cell_type": "code",
      "execution_count": null,
      "metadata": {
        "colab": {
          "base_uri": "https://localhost:8080/"
        },
        "id": "tNifsn4ROw4D",
        "outputId": "51e71b5b-8c59-4408-d7b8-bc9d7b71629e"
      },
      "outputs": [
        {
          "output_type": "stream",
          "name": "stdout",
          "text": [
            "Digite o ano do seu nacimento: 2010\n",
            "Você ainda vai se alistar. \n"
          ]
        }
      ],
      "source": [
        "ano=int(input(\"Digite o ano do seu nacimento: \"))\n",
        "idade=(2024 - ano)\n",
        "if idade <18:\n",
        " print(\"Você ainda vai se alistar. \")\n",
        "elif idade >18:\n",
        " print(\"Você já passou da hora  de se alistar. \")\n",
        "elif idade==18:\n",
        "  print(\"Você já está na hora de se alistar.\")\n"
      ]
    },
    {
      "cell_type": "markdown",
      "source": [
        "DESAFIO 1"
      ],
      "metadata": {
        "id": "ha4eFziVWrMI"
      }
    },
    {
      "cell_type": "code",
      "source": [
        "valor_casa=float(input('Qual é o valor da casa: '))\n",
        "salario=float(input('Digite o valor do seu salário: '))\n",
        "ano_pagamento=int(input('Quantos anos pretente pagar? '))\n",
        "\n",
        "meses = ano_pagamento * 12\n",
        "prestacao_mensal= valor_casa / meses\n",
        "\n",
        "if prestacao_mensal <= salario*0.3:\n",
        "  print('Seu emprestimo foi aprovado!')\n",
        "  print(f'A prestação mensal será R$: {prestacao_mensal}')\n",
        "else:\n",
        "  print('Seu emprestimo foi reprovado.')\n",
        "  print(f'A prestação mensal será R$:{prestacao_mensal}')\n",
        "\n",
        "\n"
      ],
      "metadata": {
        "id": "kNgEyAbrWoax"
      },
      "execution_count": null,
      "outputs": []
    },
    {
      "cell_type": "markdown",
      "source": [
        "DESAFIO 3"
      ],
      "metadata": {
        "id": "06UsfC4AgvfC"
      }
    },
    {
      "cell_type": "code",
      "source": [
        "peso=float(input('Digite seu peso: '))\n",
        "altura=float(input('Digite sua altura:'))\n",
        "imc= peso/(altura**2)\n",
        "\n",
        "if peso<18.5:\n",
        "  print('Você está abaixo do peso. ')\n",
        "elif peso>18.5 and peso<25:\n",
        "  print('Você está no peso ideal! ')\n",
        "elif peso>25 and peso<=30:\n",
        "  print('Você está acima do peso indicado.')\n",
        "elif peso>30 and peso<=40:\n",
        "  print('Você está atingiu a obesidade.')\n",
        "else:\n",
        "  print('Você já atingiu a obesidade mórbida. ')"
      ],
      "metadata": {
        "colab": {
          "base_uri": "https://localhost:8080/"
        },
        "id": "dhBuuADigyC3",
        "outputId": "fbe3817a-5069-4d5e-96b8-5d8765e3b8fa"
      },
      "execution_count": null,
      "outputs": [
        {
          "output_type": "stream",
          "name": "stdout",
          "text": [
            "Digite seu peso: 160\n",
            "Digite sua altura:1.60\n",
            "Você já atingiu a obesidade mórbida. \n"
          ]
        }
      ]
    },
    {
      "cell_type": "markdown",
      "source": [
        "DESAFIO 4"
      ],
      "metadata": {
        "id": "s0P79A2iaJZI"
      }
    },
    {
      "cell_type": "code",
      "source": [
        "produto=float(input('Digite o valor do seu produto: '))\n",
        "pagamento=int(input('Qual é a forma de pagamento? [1] Dinheiro/Pix | [2] A vista no cartão | [3] Em 2x no cartão | [4] Em 3x ou mais:'))\n",
        "\n",
        "if pagamento== 1:\n",
        "  valor_final = produto * 0.90\n",
        "elif pagamento == 2:\n",
        "   valor_final = produto * 0.95\n",
        "elif pagamento== 3:\n",
        " valor_final = produto\n",
        "else:\n",
        " valor_final = produto * 1.20\n",
        "\n",
        "print(valor_final)\n",
        "\n"
      ],
      "metadata": {
        "colab": {
          "base_uri": "https://localhost:8080/"
        },
        "id": "7FgE7ub4adO3",
        "outputId": "0e67487c-bfeb-4e73-ad54-ed4f8c63f104"
      },
      "execution_count": null,
      "outputs": [
        {
          "output_type": "stream",
          "name": "stdout",
          "text": [
            "Digite o valor do seu produto: 100\n",
            "Qual é a forma de pagamento? [1] Dinheiro/Pix | [2] A vista no cartão | [3] Em 2x no cartão | [4] Em 3x ou mais:1\n",
            "90.0\n"
          ]
        }
      ]
    },
    {
      "cell_type": "markdown",
      "source": [
        "DESAFIO 5"
      ],
      "metadata": {
        "id": "74sXS6fSaJYA"
      }
    },
    {
      "cell_type": "code",
      "source": [
        "horat= float(input('Número de horas trabalhadas no mês: '))\n",
        "valorh= 19.50\n",
        "salariob= horat*valorh\n",
        "\n",
        "imposto= 0.10*salariob\n",
        "salariol= salariob - imposto\n",
        "print(f\"Salário líquido: R$ {salariol:.2f}\")\n",
        ""
      ],
      "metadata": {
        "id": "vqqSEOyAgoll"
      },
      "execution_count": null,
      "outputs": []
    },
    {
      "cell_type": "markdown",
      "source": [
        "DESAFIO 6"
      ],
      "metadata": {
        "id": "lOstrrVkVQEy"
      }
    },
    {
      "cell_type": "code",
      "source": [
        "nota1= float(input('Digite a sua primeira nota:'))\n",
        "nota2 = float(input(\"Digite a segunda nota: \"))\n",
        "\n",
        "media= (nota1+ nota2)/2\n",
        "if media >= 7.0:\n",
        "    situacao = \"aprovado\"\n",
        "elif media < 3.0:\n",
        "    situacao = \"reprovado\"\n",
        "else:\n",
        "    situacao = \"recuperação\"\n",
        "\n",
        "print(f\"O aluno está {situacao}.\")"
      ],
      "metadata": {
        "id": "9-YgJb1zVSQR"
      },
      "execution_count": null,
      "outputs": []
    },
    {
      "cell_type": "markdown",
      "source": [
        "DESAFIO 7"
      ],
      "metadata": {
        "id": "NOa9NhgrVWGx"
      }
    },
    {
      "cell_type": "code",
      "source": [
        "idade= int(input('Digite a idade do narrador: '))\n",
        "\n",
        "if 5 <= idade <= 7:\n",
        "    categoria = \"infantil A\"\n",
        "elif 8 <= idade <= 10:\n",
        "    categoria = \"infantil B\"\n",
        "elif 11 <= idade <= 13:\n",
        "    categoria = \"juvenil A\"\n",
        "elif 14 <= idade <= 17:\n",
        "    categoria = \"juvenil B\"\n",
        "elif idade >= 18:\n",
        "    categoria = \"adulto\"\n",
        "else:\n",
        "    categoria = \"idade fora das categorias definidas\"\n",
        "\n",
        "print(f\"O nadador está na categoria {categoria}.\")"
      ],
      "metadata": {
        "id": "STMQjGEgVYUZ"
      },
      "execution_count": null,
      "outputs": []
    },
    {
      "cell_type": "markdown",
      "source": [
        "DESAFIO 8"
      ],
      "metadata": {
        "id": "pxiz_dWkVdwJ"
      }
    },
    {
      "cell_type": "code",
      "source": [
        "nome = input(\"Digite seu nome: \")\n",
        "sexo = input(\"Digite seu sexo (M/F): \").strip().upper()\n",
        "estado_civil = input(\"Digite seu estado civil (CASADA, SOLTEIRA, etc.): \").strip().upper()\n",
        "\n",
        "if sexo == \"F\" and estado_civil == \"CASADA\":\n",
        "    tempo_casada = int(input(\"Há quantos anos você está casada? \"))\n",
        "    print(f\"{nome}, você está casada há {tempo_casada} anos.\")\n",
        "else:\n",
        "    print(\"Você não está casada ou não é do sexo feminino.\")"
      ],
      "metadata": {
        "id": "3XH4Cx8CVfeh"
      },
      "execution_count": null,
      "outputs": []
    },
    {
      "cell_type": "markdown",
      "source": [
        "DESAFIO 9"
      ],
      "metadata": {
        "id": "76bUEqJ5ViRb"
      }
    },
    {
      "cell_type": "code",
      "source": [
        "numero = int(input(\"Digite um número inteiro: \"))\n",
        "\n",
        "if numero % 2 == 0:\n",
        "    par_ou_impar = \"par\"\n",
        "else:\n",
        "    par_ou_impar = \"ímpar\"\n",
        "\n",
        "if numero >= 0:\n",
        "    positivo_ou_negativo = \"positivo\"\n",
        "else:\n",
        "    positivo_ou_negativo = \"negativo\"\n",
        "\n",
        "print(f\"O número é {par_ou_impar} e {positivo_ou_negativo}.\")"
      ],
      "metadata": {
        "id": "ezW-QxgLVrYh"
      },
      "execution_count": null,
      "outputs": []
    },
    {
      "cell_type": "markdown",
      "source": [
        "DESAFIO 10"
      ],
      "metadata": {
        "id": "_Yo7z3nSVuG5"
      }
    },
    {
      "cell_type": "code",
      "source": [
        "n = int(input(\"Digite um número de 4 algarismos: \"))\n",
        "\n",
        "# Verificação se o número tem 4 algarismos\n",
        "if 1000 <= n <= 9999:\n",
        "    # Cálculo das dezenas\n",
        "    dezenas_inicial = n // 100\n",
        "    dezenas_final = n % 100\n",
        "    soma_dezenas = dezenas_inicial + dezenas_final\n",
        "\n",
        "    # Encontrar a raiz quadrada inteira\n",
        "    raiz_quadrada = -1  # Inicializa com um valor que indica que a raiz quadrada não foi encontrada\n",
        "    for i in range(32, 101):  # A raiz quadrada de um número de 4 algarismos está entre 32 e 100\n",
        "        if i * i == n:\n",
        "            raiz_quadrada = i\n",
        "            break #usar o break para sair de um loop e o continue para pular para a próxima iteração\n",
        "\n",
        "    # Verificação e saída\n",
        "    if raiz_quadrada != -1:  # Verifica se uma raiz quadrada foi encontrada\n",
        "        if raiz_quadrada == soma_dezenas:\n",
        "            print(f\"A raiz quadrada de {n} é {raiz_quadrada}, que é igual à soma das dezenas ({soma_dezenas}).\")\n",
        "        else:\n",
        "            print(f\"A raiz quadrada de {n} é {raiz_quadrada}, que não é igual à soma das dezenas ({soma_dezenas}).\")\n",
        "    else:\n",
        "        print(f\"A raiz quadrada de {n} não é um número inteiro.\")\n",
        "else:\n",
        "    print(\"Número deve ter 4 algarismos.\")"
      ],
      "metadata": {
        "id": "GBL8bxnjVvXZ"
      },
      "execution_count": null,
      "outputs": []
    }
  ]
}
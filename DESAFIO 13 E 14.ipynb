{
  "nbformat": 4,
  "nbformat_minor": 0,
  "metadata": {
    "colab": {
      "provenance": [],
      "authorship_tag": "ABX9TyM0Rmz2VyfxApOdv2Ys8j8T",
      "include_colab_link": true
    },
    "kernelspec": {
      "name": "python3",
      "display_name": "Python 3"
    },
    "language_info": {
      "name": "python"
    }
  },
  "cells": [
    {
      "cell_type": "markdown",
      "metadata": {
        "id": "view-in-github",
        "colab_type": "text"
      },
      "source": [
        "<a href=\"https://colab.research.google.com/github/GiseleSacramento/DESAFIOS/blob/main/DESAFIO%2013%20E%2014.ipynb\" target=\"_parent\"><img src=\"https://colab.research.google.com/assets/colab-badge.svg\" alt=\"Open In Colab\"/></a>"
      ]
    },
    {
      "cell_type": "markdown",
      "source": [
        "desafio13"
      ],
      "metadata": {
        "id": "5Qh6G7HVOzZp"
      }
    },
    {
      "cell_type": "code",
      "execution_count": null,
      "metadata": {
        "colab": {
          "base_uri": "https://localhost:8080/"
        },
        "id": "2gfyJQQ1bpup",
        "outputId": "951cc712-d7f8-415b-dc5a-e5b4ae24dc13"
      },
      "outputs": [
        {
          "name": "stdout",
          "output_type": "stream",
          "text": [
            "Informe sua cidade:Brumadinho\n"
          ]
        }
      ],
      "source": [
        "cidade= str(input(f\"Informe sua cidade:\"))"
      ]
    },
    {
      "cell_type": "code",
      "source": [
        "cidade.startswith(\"santos\")"
      ],
      "metadata": {
        "colab": {
          "base_uri": "https://localhost:8080/"
        },
        "id": "-WSszn6NdBYQ",
        "outputId": "f81dc340-b18e-4a6c-ddd6-969887596b8a"
      },
      "execution_count": null,
      "outputs": [
        {
          "output_type": "execute_result",
          "data": {
            "text/plain": [
              "False"
            ]
          },
          "metadata": {},
          "execution_count": 3
        }
      ]
    },
    {
      "cell_type": "code",
      "source": [
        "cidade1=str(input(f\"Informe sua cidade: \"))\n"
      ],
      "metadata": {
        "colab": {
          "base_uri": "https://localhost:8080/"
        },
        "id": "_3dZW4XeKbzw",
        "outputId": "cd764196-32c5-40b0-fb58-9529bc1b5494"
      },
      "execution_count": 2,
      "outputs": [
        {
          "name": "stdout",
          "output_type": "stream",
          "text": [
            "Informe sua cidade: curvelo\n"
          ]
        }
      ]
    },
    {
      "cell_type": "code",
      "source": [
        "frase=\"santos\""
      ],
      "metadata": {
        "id": "AIjMMafEN495"
      },
      "execution_count": 7,
      "outputs": []
    },
    {
      "cell_type": "code",
      "source": [
        "'cidade1'in frase"
      ],
      "metadata": {
        "colab": {
          "base_uri": "https://localhost:8080/"
        },
        "id": "E-gahB4JNwiB",
        "outputId": "f6b35e4f-14a5-4253-b44d-e0434771cbe5"
      },
      "execution_count": 8,
      "outputs": [
        {
          "output_type": "execute_result",
          "data": {
            "text/plain": [
              "False"
            ]
          },
          "metadata": {},
          "execution_count": 8
        }
      ]
    },
    {
      "cell_type": "markdown",
      "source": [
        "desafio14"
      ],
      "metadata": {
        "id": "dq9g7pWeOwbK"
      }
    },
    {
      "cell_type": "code",
      "source": [
        "letra=input(f\"Digite uma palavra ou uma frase: \")"
      ],
      "metadata": {
        "colab": {
          "base_uri": "https://localhost:8080/"
        },
        "id": "E9SFHfkNOPHB",
        "outputId": "82817637-4aca-4925-8d43-e06fb53016df"
      },
      "execution_count": 17,
      "outputs": [
        {
          "name": "stdout",
          "output_type": "stream",
          "text": [
            "Digite uma palavra ou uma frase: morango azul\n"
          ]
        }
      ]
    },
    {
      "cell_type": "code",
      "source": [
        "letra.count('a')"
      ],
      "metadata": {
        "colab": {
          "base_uri": "https://localhost:8080/"
        },
        "id": "hGYwRFIYPqjp",
        "outputId": "769e5886-84a9-48e0-9a76-9efbf5e77d18"
      },
      "execution_count": 18,
      "outputs": [
        {
          "output_type": "execute_result",
          "data": {
            "text/plain": [
              "2"
            ]
          },
          "metadata": {},
          "execution_count": 18
        }
      ]
    },
    {
      "cell_type": "code",
      "source": [
        "letra.find('a')"
      ],
      "metadata": {
        "colab": {
          "base_uri": "https://localhost:8080/"
        },
        "id": "F8mI_fXFQGDu",
        "outputId": "d604e50b-a2ca-41b4-ffa3-64ccedb4723a"
      },
      "execution_count": 19,
      "outputs": [
        {
          "output_type": "execute_result",
          "data": {
            "text/plain": [
              "3"
            ]
          },
          "metadata": {},
          "execution_count": 19
        }
      ]
    },
    {
      "cell_type": "code",
      "source": [
        "letra.rfind('a')"
      ],
      "metadata": {
        "colab": {
          "base_uri": "https://localhost:8080/"
        },
        "id": "Wou3WMibQ24u",
        "outputId": "7a767cb3-ae46-41ca-c64b-b54f663cd9de"
      },
      "execution_count": 22,
      "outputs": [
        {
          "output_type": "execute_result",
          "data": {
            "text/plain": [
              "8"
            ]
          },
          "metadata": {},
          "execution_count": 22
        }
      ]
    }
  ]
}